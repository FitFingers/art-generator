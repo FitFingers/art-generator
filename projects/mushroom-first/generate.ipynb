{
 "cells": [
  {
   "cell_type": "code",
   "execution_count": 107,
   "source": [
    "from PIL import Image \n",
    "from IPython.display import display \n",
    "import random\n",
    "import json"
   ],
   "outputs": [],
   "metadata": {}
  },
  {
   "cell_type": "code",
   "execution_count": 108,
   "source": [
    "# Variables\n",
    "\n",
    "TOTAL_IMAGES = 120\n",
    "\n",
    "all_images = []\n",
    "\n",
    "background = [\"blue\", \"gold\", \"green\", \"peach\", \"pink\"]\n",
    "color = [\"black\", \"blue\", \"deepblue\", \"green\",\n",
    "         \"orange\", \"purple\", \"red\", \"white\", \"yellow\"]\n",
    "spots = [\"black\", \"blue\", \"white\"]\n",
    "floor = [\"grass\", \"mud\", \"sand\", \"snow\"]\n",
    "toxicity = [\"healthy\", \"toxic\"]\n",
    "\n",
    "# add magic mushroom, number of mushrooms, MAYBE add weather/landscape instead of floor?\n",
    "\n",
    "background_weights = [10, 5, 15, 40, 30]\n",
    "color_weights = [1, 2, 5, 15, 25, 11, 32, 1, 8]\n",
    "spots_weights = [20, 5, 75]\n",
    "floor_weights = [50, 30, 15, 5]\n",
    "toxicity_weights = [85, 15]\n"
   ],
   "outputs": [],
   "metadata": {}
  },
  {
   "cell_type": "code",
   "execution_count": 109,
   "source": [
    "def create_new_image():\n",
    "    new_image = {}\n",
    "\n",
    "    # For each trait category, select a random trait based on the weightings\n",
    "    new_image[\"Background\"] = random.choices(background, background_weights)[0]\n",
    "    new_image[\"Color\"] = random.choices(color, color_weights)[0]\n",
    "    new_image[\"Spots\"] = random.choices(spots, spots_weights)[0]\n",
    "    new_image[\"Floor\"] = random.choices(floor, floor_weights)[0]\n",
    "    new_image[\"Toxicity\"] = random.choices(toxicity, toxicity_weights)[0]\n",
    "\n",
    "    if new_image in all_images:\n",
    "        return create_new_image()\n",
    "    else:\n",
    "        return new_image\n",
    "\n",
    "\n",
    "for i in range(TOTAL_IMAGES):\n",
    "    new_image = create_new_image()\n",
    "\n",
    "    all_images.append(new_image)\n"
   ],
   "outputs": [],
   "metadata": {}
  },
  {
   "cell_type": "code",
   "execution_count": 110,
   "source": [
    "# Returns true if all images are unique\n",
    "def all_images_unique(all_images):\n",
    "    seen = list()\n",
    "    return not any(i in seen or seen.append(i) for i in all_images)\n",
    "\n",
    "print(\"Are all images unique?\", all_images_unique(all_images))"
   ],
   "outputs": [
    {
     "output_type": "stream",
     "name": "stdout",
     "text": [
      "Are all images unique? True\n"
     ]
    }
   ],
   "metadata": {}
  },
  {
   "cell_type": "code",
   "execution_count": 111,
   "source": [
    "# Add token Id to each image\n",
    "i = 0\n",
    "for item in all_images:\n",
    "    item[\"tokenId\"] = i\n",
    "    i = i + 1"
   ],
   "outputs": [],
   "metadata": {}
  },
  {
   "cell_type": "code",
   "execution_count": 112,
   "source": [
    "# print(all_images)"
   ],
   "outputs": [],
   "metadata": {}
  },
  {
   "cell_type": "code",
   "execution_count": 113,
   "source": [
    "# Get Trait Counts\n",
    "\n",
    "background_count = {}\n",
    "for item in background:\n",
    "    background_count[item] = 0\n",
    "\n",
    "color_count = {}\n",
    "for item in color:\n",
    "    color_count[item] = 0\n",
    "\n",
    "spots_count = {}\n",
    "for item in spots:\n",
    "    spots_count[item] = 0\n",
    "\n",
    "floor_count = {}\n",
    "for item in floor:\n",
    "    floor_count[item] = 0\n",
    "\n",
    "toxicity_count = {}\n",
    "for item in toxicity:\n",
    "    toxicity_count[item] = 0\n",
    "\n",
    "for image in all_images:\n",
    "    background_count[image[\"Background\"]] += 1\n",
    "    color_count[image[\"Color\"]] += 1\n",
    "    spots_count[image[\"Spots\"]] += 1\n",
    "    floor_count[image[\"Floor\"]] += 1\n",
    "    toxicity_count[image[\"Toxicity\"]] += 1\n",
    "\n",
    "print(background_count)\n",
    "print(color_count)\n",
    "print(spots_count)\n",
    "print(floor_count)\n"
   ],
   "outputs": [
    {
     "output_type": "stream",
     "name": "stdout",
     "text": [
      "{'blue': 19, 'gold': 10, 'green': 14, 'peach': 44, 'pink': 33}\n",
      "{'black': 3, 'blue': 4, 'deepblue': 11, 'green': 18, 'orange': 25, 'purple': 10, 'red': 30, 'white': 3, 'yellow': 16}\n",
      "{'black': 30, 'blue': 11, 'white': 79}\n",
      "{'grass': 53, 'mud': 34, 'sand': 23, 'snow': 10}\n"
     ]
    }
   ],
   "metadata": {}
  },
  {
   "cell_type": "code",
   "execution_count": 114,
   "source": [
    "# Generate Metadata for all Traits\n",
    "METADATA_FILE_NAME = './metadata/all-traits.json'\n",
    "with open(METADATA_FILE_NAME, 'w') as outfile:\n",
    "    json.dump(all_images, outfile, indent=4)\n",
    "\n",
    "print(\"Created all-traits JSON file\")\n"
   ],
   "outputs": [
    {
     "output_type": "stream",
     "name": "stdout",
     "text": [
      "Created all-traits JSON file\n"
     ]
    }
   ],
   "metadata": {}
  },
  {
   "cell_type": "code",
   "execution_count": 115,
   "source": [
    "# Generate Images\n",
    "for item in all_images:\n",
    "\n",
    "    # print(\"sourcing images for\", item)\n",
    "\n",
    "    # source images in their required order\n",
    "    backgroundimage = Image.open(\n",
    "        f'./trait-layers/backgrounds/{item[\"Background\"]}.png').convert('RGBA')\n",
    "    colorimage = Image.open(\n",
    "        f'./trait-layers/colors/{item[\"Color\"]}.png').convert('RGBA')\n",
    "    shadingimage = Image.open(f'./trait-layers/shading.png').convert('RGBA')\n",
    "    spotsimage = Image.open(\n",
    "        f'./trait-layers/spots/{item[\"Spots\"]}.png').convert('RGBA')\n",
    "    outlineimage = Image.open(f'./trait-layers/outline.png').convert('RGBA')\n",
    "    floorimage = Image.open(\n",
    "        f'./trait-layers/floors/{item[\"Floor\"]}.png').convert('RGBA')\n",
    "    toxicimage = Image.open(f'./trait-layers/toxic.png').convert('RGBA')\n",
    "\n",
    "    # change the alpha channel for shading / transparent images\n",
    "    if item[\"Toxicity\"] == \"toxic\":\n",
    "        shadingimage.putalpha(144)\n",
    "\n",
    "    # Create each composite\n",
    "    com1 = Image.alpha_composite(backgroundimage, colorimage)\n",
    "    com2 = Image.alpha_composite(com1, shadingimage)\n",
    "    com3 = Image.alpha_composite(com2, spotsimage)\n",
    "    com4 = Image.alpha_composite(com3, outlineimage)\n",
    "    com5 = Image.alpha_composite(com4, floorimage)\n",
    "\n",
    "    # add toxic odour lines\n",
    "    if item[\"Toxicity\"] == \"toxic\":\n",
    "        toxicimage.putalpha(50)\n",
    "        com5 = Image.alpha_composite(com5, toxicimage)\n",
    "\n",
    "    # Convert to RGB\n",
    "    rgb_im = com5.convert('RGB')\n",
    "    file_name = str(item[\"tokenId\"]) + \".png\"\n",
    "    rgb_im.save(\"./images/\" + file_name)\n"
   ],
   "outputs": [],
   "metadata": {}
  },
  {
   "cell_type": "code",
   "execution_count": 116,
   "source": [
    "#### Generate Metadata for each Image    \n",
    "\n",
    "f = open('./metadata/all-traits.json',) \n",
    "data = json.load(f)\n",
    "\n",
    "\n",
    "IMAGES_BASE_URI = \"ADD_IMAGES_BASE_URI_HERE\"\n",
    "PROJECT_NAME = \"ADD_PROJECT_NAME_HERE\"\n",
    "\n",
    "def getAttribute(key, value):\n",
    "    return {\n",
    "        \"trait_type\": key,\n",
    "        \"value\": value\n",
    "    }\n",
    "for i in data:\n",
    "    token_id = i['tokenId']\n",
    "    token = {\n",
    "        \"image\": IMAGES_BASE_URI + str(token_id) + '.png',\n",
    "        \"tokenId\": token_id,\n",
    "        \"name\": PROJECT_NAME + ' ' + str(token_id),\n",
    "        \"attributes\": []\n",
    "    }\n",
    "    token[\"attributes\"].append(getAttribute(\"Background\", i[\"Background\"]))\n",
    "    token[\"attributes\"].append(getAttribute(\"Color\", i[\"Color\"]))\n",
    "    token[\"attributes\"].append(getAttribute(\"Spots\", i[\"Spots\"]))\n",
    "    token[\"attributes\"].append(getAttribute(\"Floor\", i[\"Floor\"]))\n",
    "    token[\"attributes\"].append(getAttribute(\"Toxicity\", i[\"Toxicity\"]))\n",
    "\n",
    "    with open('./metadata/' + str(token_id), 'w') as outfile:\n",
    "        json.dump(token, outfile, indent=4)\n",
    "f.close()"
   ],
   "outputs": [],
   "metadata": {}
  }
 ],
 "metadata": {
  "kernelspec": {
   "name": "python3",
   "display_name": "Python 3.6.9 64-bit ('jupyterenv': venv)"
  },
  "language_info": {
   "codemirror_mode": {
    "name": "ipython",
    "version": 3
   },
   "file_extension": ".py",
   "mimetype": "text/x-python",
   "name": "python",
   "nbconvert_exporter": "python",
   "pygments_lexer": "ipython3",
   "version": "3.6.9"
  },
  "interpreter": {
   "hash": "001285a19ecd9f6d00e3b803ff149c5f5f2e261dd5a5ffa220ea6d056caf42cf"
  }
 },
 "nbformat": 4,
 "nbformat_minor": 5
}