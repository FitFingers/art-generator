{
 "cells": [
  {
   "cell_type": "code",
   "execution_count": 29,
   "source": [
    "from PIL import Image \n",
    "from IPython.display import display \n",
    "import random\n",
    "import json"
   ],
   "outputs": [],
   "metadata": {}
  },
  {
   "cell_type": "code",
   "execution_count": 30,
   "source": [
    "# Variables\n",
    "\n",
    "TOTAL_IMAGES = 10  # total unique: 4320\n",
    "\n",
    "all_images = []\n",
    "\n",
    "background = [\"blue\", \"gold\", \"green\", \"peach\", \"pink\"]\n",
    "background_weights = [10, 5, 15, 40, 30]\n",
    "\n",
    "color = [\"black\", \"blue\", \"deepblue\", \"green\", \"orange\", \"purple\", \"red\", \"white\", \"yellow\"]\n",
    "color_weights = [2, 5, 9, 12, 20, 15, 27, 3, 7]\n",
    "\n",
    "spots = [\"black\", \"ice\", \"white\"]\n",
    "spots_weights = [20, 3, 78]\n",
    "\n",
    "environment = [\"field\", \"swamp\", \"desert\", \"arctic\"]\n",
    "environment_weights = [50, 30, 15, 5]\n",
    "\n",
    "toxicity = [\"healthy\", \"toxic\"]\n",
    "toxicity_weights = [85, 15]\n",
    "\n",
    "species = [\"toadstool\", \"mushrooms\"]\n",
    "species_weights = [80, 20]\n",
    "\n",
    "magic_weights = [5, 95]\n",
    "magic = [\"magic\", \"ordinary\"]\n"
   ],
   "outputs": [],
   "metadata": {}
  },
  {
   "cell_type": "code",
   "execution_count": 31,
   "source": [
    "def create_new_image():\n",
    "    new_image = {}\n",
    "\n",
    "    # For each trait category, select a random trait based on the weightings\n",
    "    new_image[\"Background\"] = random.choices(background, background_weights)[0]\n",
    "    new_image[\"Color\"] = random.choices(color, color_weights)[0]\n",
    "    new_image[\"Spots\"] = random.choices(spots, spots_weights)[0]\n",
    "    new_image[\"Environment\"] = random.choices(environment, environment_weights)[0]\n",
    "    new_image[\"Toxicity\"] = random.choices(toxicity, toxicity_weights)[0]\n",
    "    new_image[\"Species\"] = random.choices(species, species_weights)[0]\n",
    "    new_image[\"Magic\"] = random.choices(magic, magic_weights)[0]\n",
    "\n",
    "    if new_image in all_images:\n",
    "        return create_new_image()\n",
    "    else:\n",
    "        return new_image\n",
    "\n",
    "\n",
    "for i in range(TOTAL_IMAGES):\n",
    "    new_image = create_new_image()\n",
    "\n",
    "    all_images.append(new_image)\n"
   ],
   "outputs": [],
   "metadata": {}
  },
  {
   "cell_type": "code",
   "execution_count": 32,
   "source": [
    "# Returns true if all images are unique\n",
    "def all_images_unique(all_images):\n",
    "    seen = list()\n",
    "    return not any(i in seen or seen.append(i) for i in all_images)\n",
    "\n",
    "print(\"Are all images unique?\", all_images_unique(all_images))"
   ],
   "outputs": [
    {
     "output_type": "stream",
     "name": "stdout",
     "text": [
      "Are all images unique? True\n"
     ]
    }
   ],
   "metadata": {}
  },
  {
   "cell_type": "code",
   "execution_count": 33,
   "source": [
    "# Add token Id to each image\n",
    "i = 0\n",
    "for item in all_images:\n",
    "    item[\"tokenId\"] = i\n",
    "    i = i + 1"
   ],
   "outputs": [],
   "metadata": {}
  },
  {
   "cell_type": "code",
   "execution_count": 34,
   "source": [
    "# print(all_images)"
   ],
   "outputs": [],
   "metadata": {}
  },
  {
   "cell_type": "code",
   "execution_count": 35,
   "source": [
    "# Get Trait Counts\n",
    "\n",
    "background_count = {}\n",
    "for item in background:\n",
    "    background_count[item] = 0\n",
    "\n",
    "color_count = {}\n",
    "for item in color:\n",
    "    color_count[item] = 0\n",
    "\n",
    "spots_count = {}\n",
    "for item in spots:\n",
    "    spots_count[item] = 0\n",
    "\n",
    "environment_count = {}\n",
    "for item in environment:\n",
    "    environment_count[item] = 0\n",
    "\n",
    "toxicity_count = {}\n",
    "for item in toxicity:\n",
    "    toxicity_count[item] = 0\n",
    "\n",
    "species_count = {}\n",
    "for item in species:\n",
    "    species_count[item] = 0\n",
    "\n",
    "magic_count = {}\n",
    "for item in magic:\n",
    "    magic_count[item] = 0\n",
    "\n",
    "for image in all_images:\n",
    "    background_count[image[\"Background\"]] += 1\n",
    "    color_count[image[\"Color\"]] += 1\n",
    "    spots_count[image[\"Spots\"]] += 1\n",
    "    environment_count[image[\"Environment\"]] += 1\n",
    "    toxicity_count[image[\"Toxicity\"]] += 1\n",
    "    species_count[image[\"Species\"]] += 1\n",
    "    magic_count[image[\"Magic\"]] += 1\n",
    "\n",
    "print(background_count)\n",
    "print(color_count)\n",
    "print(spots_count)\n",
    "print(environment_count)\n",
    "print(toxicity_count)\n",
    "print(species_count)\n",
    "print(magic_count)\n"
   ],
   "outputs": [
    {
     "output_type": "stream",
     "name": "stdout",
     "text": [
      "{'blue': 52, 'gold': 47, 'green': 71, 'peach': 144, 'pink': 106}\n",
      "{'black': 6, 'blue': 21, 'deepblue': 32, 'green': 52, 'orange': 77, 'purple': 66, 'red': 101, 'white': 15, 'yellow': 50}\n",
      "{'black': 126, 'ice': 43, 'white': 251}\n",
      "{'field': 173, 'swamp': 137, 'desert': 71, 'arctic': 39}\n",
      "{'safe': 312, 'toxic': 108}\n",
      "{'toadstool': 337, 'mushrooms': 83}\n",
      "{'true': 47, 'false': 373}\n"
     ]
    }
   ],
   "metadata": {}
  },
  {
   "cell_type": "code",
   "execution_count": 36,
   "source": [
    "# Generate Metadata for all Traits\n",
    "METADATA_FILE_NAME = './metadata/all-traits.json'\n",
    "with open(METADATA_FILE_NAME, 'w') as outfile:\n",
    "    json.dump(all_images, outfile, indent=4)\n",
    "\n",
    "print(\"Created all-traits JSON file\")\n"
   ],
   "outputs": [
    {
     "output_type": "stream",
     "name": "stdout",
     "text": [
      "Created all-traits JSON file\n"
     ]
    }
   ],
   "metadata": {}
  },
  {
   "cell_type": "code",
   "execution_count": 37,
   "source": [
    "# Generate Images\n",
    "for item in all_images:\n",
    "\n",
    "    # print(\"sourcing images for\", item)\n",
    "\n",
    "    # source all images\n",
    "    # BASE IMAGES\n",
    "    bgImage = Image.open(\n",
    "        f'./trait-layers/backgrounds/{item[\"Background\"]}.png').convert('RGBA')\n",
    "    environmentImage = Image.open(\n",
    "        f'./trait-layers/environments/{item[\"Environment\"]}.png').convert('RGBA')\n",
    "    toadstoolColor = Image.open(\n",
    "        f'./trait-layers/colors/{item[\"Color\"]}-toadstool.png').convert('RGBA')\n",
    "    toadstoolOutline = Image.open(\n",
    "        f'./trait-layers/general/outline-toadstool.png').convert('RGBA')\n",
    "\n",
    "    # CONDITIONALLY IMPORT IMAGES    \n",
    "    if item[\"Species\"] == \"mushrooms\":\n",
    "        mushroomsColor = Image.open(\n",
    "            f'./trait-layers/colors/{item[\"Color\"]}-mushrooms.png').convert('RGBA')\n",
    "        mushroomsOutline = Image.open(\n",
    "            f'./trait-layers/general/outline-mushrooms.png').convert('RGBA')\n",
    "        shadingImage = Image.open(\n",
    "            f'./trait-layers/general/shading-mushrooms.png').convert('RGBA')\n",
    "    else:    \n",
    "        shadingImage = Image.open(\n",
    "            f'./trait-layers/general/shading-toadstool.png').convert('RGBA')\n",
    "        toadstoolSpots = Image.open(\n",
    "            f'./trait-layers/spots/{item[\"Spots\"]}.png').convert('RGBA')\n",
    "\n",
    "    # properties to change only when item is of toxic variety\n",
    "    if item[\"Toxicity\"] == \"toxic\":\n",
    "        toxicImage = Image.open(\n",
    "            f'./trait-layers/general/toxic.png').convert('RGBA')\n",
    "        # change the alpha channels of the images for giving the toxic-look\n",
    "        toxicImage.putalpha(50)\n",
    "        shadingImage.putalpha(144)\n",
    "\n",
    "    # START to layer all the images together\n",
    "    tsColWithBg = Image.alpha_composite(bgImage, toadstoolColor)\n",
    "    toadstoolBaseImage = Image.alpha_composite(tsColWithBg, toadstoolOutline)\n",
    "\n",
    "    # create the mushrooms base (outline & color) if required\n",
    "    if item[\"Species\"] == \"mushrooms\":\n",
    "        mushroomsBaseImage = Image.alpha_composite(mushroomsColor, mushroomsOutline)\n",
    "        preshadedImage = Image.alpha_composite(toadstoolBaseImage, mushroomsBaseImage)\n",
    "    else:\n",
    "        preshadedImage = Image.alpha_composite(toadstoolBaseImage, toadstoolSpots)\n",
    "    \n",
    "    # add the spores to magic items\n",
    "    if item[\"Magic\"] == \"magic\":\n",
    "        sporesImage = Image.open(f'./trait-layers/spores/{item[\"Color\"]}.png').convert('RGBA')\n",
    "        preshadedImage = Image.alpha_composite(preshadedImage, sporesImage)\n",
    "\n",
    "    # add the shading\n",
    "    shadedImage = Image.alpha_composite(preshadedImage, shadingImage)\n",
    "\n",
    "    # add the environment\n",
    "    finalImage = Image.alpha_composite(shadedImage, environmentImage)\n",
    "\n",
    "    # add toxic odour lines (if toxic)\n",
    "    if item[\"Toxicity\"] == \"toxic\":\n",
    "        finalImage = Image.alpha_composite(finalImage, toxicImage)\n",
    "\n",
    "    # Convert to RGB\n",
    "    rgb_im = finalImage.convert('RGB')\n",
    "    file_name = str(item[\"tokenId\"]) + \".png\"\n",
    "    rgb_im.save(\"./images/\" + file_name)\n"
   ],
   "outputs": [],
   "metadata": {}
  },
  {
   "cell_type": "code",
   "execution_count": 38,
   "source": [
    "#### Generate Metadata for each Image    \n",
    "\n",
    "f = open('./metadata/all-traits.json',) \n",
    "data = json.load(f)\n",
    "\n",
    "\n",
    "IMAGES_BASE_URI = \"ADD_IMAGES_BASE_URI_HERE\"\n",
    "PROJECT_NAME = \"ADD_PROJECT_NAME_HERE\"\n",
    "\n",
    "def getAttribute(key, value):\n",
    "    return {\n",
    "        \"trait_type\": key,\n",
    "        \"value\": value\n",
    "    }\n",
    "for i in data:\n",
    "    token_id = i['tokenId']\n",
    "    token = {\n",
    "        \"image\": IMAGES_BASE_URI + str(token_id) + '.png',\n",
    "        \"tokenId\": token_id,\n",
    "        \"name\": PROJECT_NAME + ' ' + str(token_id),\n",
    "        \"attributes\": []\n",
    "    }\n",
    "    token[\"attributes\"].append(getAttribute(\"Background\", i[\"Background\"].title()))\n",
    "    token[\"attributes\"].append(getAttribute(\"Color\", i[\"Color\"].title()))\n",
    "    token[\"attributes\"].append(getAttribute(\"Spots\", i[\"Spots\"].title()))\n",
    "    token[\"attributes\"].append(getAttribute(\"Environment\", i[\"Environment\"].title()))\n",
    "    token[\"attributes\"].append(getAttribute(\"Toxicity\", i[\"Toxicity\"].title()))\n",
    "    token[\"attributes\"].append(getAttribute(\"Species\", i[\"Species\"].title()))\n",
    "    token[\"attributes\"].append(getAttribute(\"Magic\", i[\"Magic\"].title()))\n",
    "\n",
    "    with open('./metadata/' + str(token_id), 'w') as outfile:\n",
    "        json.dump(token, outfile, indent=4)\n",
    "f.close()"
   ],
   "outputs": [],
   "metadata": {}
  }
 ],
 "metadata": {
  "interpreter": {
   "hash": "31f2aee4e71d21fbe5cf8b01ff0e069b9275f58929596ceb00d14d90e3e16cd6"
  },
  "kernelspec": {
   "name": "python3",
   "display_name": "Python 3.6.9 64-bit"
  },
  "language_info": {
   "codemirror_mode": {
    "name": "ipython",
    "version": 3
   },
   "file_extension": ".py",
   "mimetype": "text/x-python",
   "name": "python",
   "nbconvert_exporter": "python",
   "pygments_lexer": "ipython3",
   "version": "3.6.9"
  }
 },
 "nbformat": 4,
 "nbformat_minor": 5
}