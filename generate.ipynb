{
 "cells": [
  {
   "cell_type": "code",
   "execution_count": 156,
   "source": [
    "from PIL import Image \n",
    "from IPython.display import display \n",
    "import random\n",
    "import json"
   ],
   "outputs": [],
   "metadata": {}
  },
  {
   "cell_type": "code",
   "execution_count": 157,
   "source": [
    "# Variables\n",
    "\n",
    "TOTAL_IMAGES = 100 # total unique: 2160 / total unique where trait count is a trait: 12960\n",
    "\n",
    "all_images = []\n",
    "\n",
    "background = [\"blue\", \"gold\", \"green\", \"peach\", \"pink\"]\n",
    "color = [\"black\", \"blue\", \"deepblue\", \"green\", \"orange\", \"purple\", \"red\", \"white\", \"yellow\"]\n",
    "spots = [\"black\", \"ice\", \"white\"]\n",
    "floor = [\"grass\", \"mud\", \"sand\", \"snow\"]\n",
    "toxicity = [\"safe\", \"toxic\"]\n",
    "species = [\"toadstool\", \"magic\"]\n",
    "\n",
    "# add magic mushroom, number of mushrooms, MAYBE add weather/landscape instead of floor?\n",
    "\n",
    "background_weights = [10, 5, 15, 40, 30]\n",
    "color_weights = [1, 2, 5, 15, 25, 11, 32, 1, 8]\n",
    "spots_weights = [20, 5, 75]\n",
    "floor_weights = [50, 30, 15, 5]\n",
    "toxicity_weights = [85, 15]\n",
    "species_weights = [95, 5]\n"
   ],
   "outputs": [],
   "metadata": {}
  },
  {
   "cell_type": "code",
   "execution_count": 158,
   "source": [
    "def create_new_image():\n",
    "    new_image = {}\n",
    "\n",
    "    # For each trait category, select a random trait based on the weightings\n",
    "    new_image[\"Background\"] = random.choices(background, background_weights)[0]\n",
    "    new_image[\"Color\"] = random.choices(color, color_weights)[0]\n",
    "    new_image[\"Spots\"] = random.choices(spots, spots_weights)[0]\n",
    "    new_image[\"Floor\"] = random.choices(floor, floor_weights)[0]\n",
    "    new_image[\"Toxicity\"] = random.choices(toxicity, toxicity_weights)[0]\n",
    "    new_image[\"Species\"] = random.choices(species, species_weights)[0]\n",
    "\n",
    "    if new_image in all_images:\n",
    "        return create_new_image()\n",
    "    else:\n",
    "        return new_image\n",
    "\n",
    "\n",
    "for i in range(TOTAL_IMAGES):\n",
    "    new_image = create_new_image()\n",
    "\n",
    "    all_images.append(new_image)\n"
   ],
   "outputs": [],
   "metadata": {}
  },
  {
   "cell_type": "code",
   "execution_count": 159,
   "source": [
    "# Returns true if all images are unique\n",
    "def all_images_unique(all_images):\n",
    "    seen = list()\n",
    "    return not any(i in seen or seen.append(i) for i in all_images)\n",
    "\n",
    "print(\"Are all images unique?\", all_images_unique(all_images))"
   ],
   "outputs": [
    {
     "output_type": "stream",
     "name": "stdout",
     "text": [
      "Are all images unique? True\n"
     ]
    }
   ],
   "metadata": {}
  },
  {
   "cell_type": "code",
   "execution_count": 160,
   "source": [
    "# Add token Id to each image\n",
    "i = 0\n",
    "for item in all_images:\n",
    "    item[\"tokenId\"] = i\n",
    "    i = i + 1"
   ],
   "outputs": [],
   "metadata": {}
  },
  {
   "cell_type": "code",
   "execution_count": 161,
   "source": [
    "# print(all_images)"
   ],
   "outputs": [],
   "metadata": {}
  },
  {
   "cell_type": "code",
   "execution_count": 162,
   "source": [
    "# Get Trait Counts\n",
    "\n",
    "background_count = {}\n",
    "for item in background:\n",
    "    background_count[item] = 0\n",
    "\n",
    "color_count = {}\n",
    "for item in color:\n",
    "    color_count[item] = 0\n",
    "\n",
    "spots_count = {}\n",
    "for item in spots:\n",
    "    spots_count[item] = 0\n",
    "\n",
    "floor_count = {}\n",
    "for item in floor:\n",
    "    floor_count[item] = 0\n",
    "\n",
    "toxicity_count = {}\n",
    "for item in toxicity:\n",
    "    toxicity_count[item] = 0\n",
    "\n",
    "species_count = {}\n",
    "for item in species:\n",
    "    species_count[item] = 0\n",
    "\n",
    "for image in all_images:\n",
    "    background_count[image[\"Background\"]] += 1\n",
    "    color_count[image[\"Color\"]] += 1\n",
    "    spots_count[image[\"Spots\"]] += 1\n",
    "    floor_count[image[\"Floor\"]] += 1\n",
    "    toxicity_count[image[\"Toxicity\"]] += 1\n",
    "    species_count[image[\"Species\"]] += 1\n",
    "\n",
    "print(background_count)\n",
    "print(color_count)\n",
    "print(spots_count)\n",
    "print(floor_count)\n",
    "print(toxicity_count)\n",
    "print(species_count)\n"
   ],
   "outputs": [
    {
     "output_type": "stream",
     "name": "stdout",
     "text": [
      "{'blue': 12, 'gold': 2, 'green': 23, 'peach': 37, 'pink': 26}\n",
      "{'black': 3, 'blue': 2, 'deepblue': 5, 'green': 9, 'orange': 22, 'purple': 8, 'red': 33, 'white': 3, 'yellow': 15}\n",
      "{'black': 27, 'ice': 6, 'white': 67}\n",
      "{'grass': 49, 'mud': 29, 'sand': 15, 'snow': 7}\n",
      "{'safe': 78, 'toxic': 22}\n",
      "{'toadstool': 88, 'magic': 12}\n"
     ]
    }
   ],
   "metadata": {}
  },
  {
   "cell_type": "code",
   "execution_count": 163,
   "source": [
    "# Generate Metadata for all Traits\n",
    "METADATA_FILE_NAME = './metadata/all-traits.json'\n",
    "with open(METADATA_FILE_NAME, 'w') as outfile:\n",
    "    json.dump(all_images, outfile, indent=4)\n",
    "\n",
    "print(\"Created all-traits JSON file\")\n"
   ],
   "outputs": [
    {
     "output_type": "stream",
     "name": "stdout",
     "text": [
      "Created all-traits JSON file\n"
     ]
    }
   ],
   "metadata": {}
  },
  {
   "cell_type": "code",
   "execution_count": 164,
   "source": [
    "# Generate Images\n",
    "for item in all_images:\n",
    "\n",
    "    # print(\"sourcing images for\", item)\n",
    "\n",
    "    # TODO: build the images:\n",
    "    # if species=magic mushroom, don't add spots\n",
    "    # if toxic, add toxic lines\n",
    "    # add correct file paths (some files now have regular / magic prefixes)\n",
    "\n",
    "    # source images in their required order\n",
    "    backgroundimage = Image.open(\n",
    "        f'./trait-layers/backgrounds/{item[\"Background\"]}.png').convert('RGBA')\n",
    "    colorimage = Image.open(\n",
    "        f'./trait-layers/colors/{item[\"Color\"]}-toadstool.png').convert('RGBA')\n",
    "    shadingimage = Image.open(\n",
    "        f'./trait-layers/general/shading-toadstool.png').convert('RGBA')\n",
    "    outlineimage = Image.open(\n",
    "        f'./trait-layers/general/outline-toadstool.png').convert('RGBA')\n",
    "\n",
    "    # get the magic images\n",
    "    # TODO: try wrapping this in an if to speed up (may break, depending on python scopes)\n",
    "    magiccolorimage = Image.open(\n",
    "        f'./trait-layers/colors/{item[\"Color\"]}-magic.png').convert('RGBA')\n",
    "    magicoutlineimage = Image.open(\n",
    "        f'./trait-layers/general/outline-magic.png').convert('RGBA')\n",
    "    magicshadingimage = Image.open(\n",
    "        f'./trait-layers/general/shading-magic.png').convert('RGBA')\n",
    "\n",
    "    # Same here: try to avoid importing if magic=true\n",
    "    spotsimage = Image.open(\n",
    "        f'./trait-layers/spots/{item[\"Spots\"]}.png').convert('RGBA')\n",
    "\n",
    "    floorimage = Image.open(\n",
    "        f'./trait-layers/floors/{item[\"Floor\"]}.png').convert('RGBA')\n",
    "    toxicimage = Image.open(\n",
    "        f'./trait-layers/general/toxic.png').convert('RGBA')\n",
    "\n",
    "    # change the alpha channel for giving the toxic-look\n",
    "    if item[\"Toxicity\"] == \"toxic\":\n",
    "        shadingimage.putalpha(144)\n",
    "\n",
    "    # Create each composite\n",
    "    com1 = Image.alpha_composite(backgroundimage, colorimage)\n",
    "    com2 = Image.alpha_composite(com1, shadingimage)\n",
    "    com3 = Image.alpha_composite(com2, outlineimage)\n",
    "\n",
    "    if item[\"Species\"] == \"magic\":\n",
    "        com4 = Image.alpha_composite(com3, magiccolorimage)\n",
    "        com5 = Image.alpha_composite(com4, magicoutlineimage)\n",
    "        ifimage = Image.alpha_composite(com5, magicshadingimage)\n",
    "    else:\n",
    "        ifimage = Image.alpha_composite(com3, spotsimage)\n",
    "\n",
    "    com5 = Image.alpha_composite(ifimage, floorimage)\n",
    "\n",
    "    # add toxic odour lines\n",
    "    if item[\"Toxicity\"] == \"toxic\":\n",
    "        toxicimage.putalpha(50)\n",
    "        com5 = Image.alpha_composite(com5, toxicimage)\n",
    "\n",
    "    # Convert to RGB\n",
    "    rgb_im = com5.convert('RGB')\n",
    "    file_name = str(item[\"tokenId\"]) + \".png\"\n",
    "    rgb_im.save(\"./images/\" + file_name)\n"
   ],
   "outputs": [],
   "metadata": {}
  },
  {
   "cell_type": "code",
   "execution_count": 165,
   "source": [
    "#### Generate Metadata for each Image    \n",
    "\n",
    "f = open('./metadata/all-traits.json',) \n",
    "data = json.load(f)\n",
    "\n",
    "\n",
    "IMAGES_BASE_URI = \"ADD_IMAGES_BASE_URI_HERE\"\n",
    "PROJECT_NAME = \"ADD_PROJECT_NAME_HERE\"\n",
    "\n",
    "def getAttribute(key, value):\n",
    "    return {\n",
    "        \"trait_type\": key,\n",
    "        \"value\": value\n",
    "    }\n",
    "for i in data:\n",
    "    token_id = i['tokenId']\n",
    "    token = {\n",
    "        \"image\": IMAGES_BASE_URI + str(token_id) + '.png',\n",
    "        \"tokenId\": token_id,\n",
    "        \"name\": PROJECT_NAME + ' ' + str(token_id),\n",
    "        \"attributes\": []\n",
    "    }\n",
    "    token[\"attributes\"].append(getAttribute(\"Background\", i[\"Background\"]))\n",
    "    token[\"attributes\"].append(getAttribute(\"Color\", i[\"Color\"]))\n",
    "    token[\"attributes\"].append(getAttribute(\"Spots\", i[\"Spots\"]))\n",
    "    token[\"attributes\"].append(getAttribute(\"Floor\", i[\"Floor\"]))\n",
    "    token[\"attributes\"].append(getAttribute(\"Toxicity\", i[\"Toxicity\"]))\n",
    "    token[\"attributes\"].append(getAttribute(\"Species\", i[\"Species\"]))\n",
    "\n",
    "    with open('./metadata/' + str(token_id), 'w') as outfile:\n",
    "        json.dump(token, outfile, indent=4)\n",
    "f.close()"
   ],
   "outputs": [],
   "metadata": {}
  }
 ],
 "metadata": {
  "kernelspec": {
   "name": "python3",
   "display_name": "Python 3.6.9 64-bit ('jupyterenv': venv)"
  },
  "language_info": {
   "codemirror_mode": {
    "name": "ipython",
    "version": 3
   },
   "file_extension": ".py",
   "mimetype": "text/x-python",
   "name": "python",
   "nbconvert_exporter": "python",
   "pygments_lexer": "ipython3",
   "version": "3.6.9"
  },
  "interpreter": {
   "hash": "001285a19ecd9f6d00e3b803ff149c5f5f2e261dd5a5ffa220ea6d056caf42cf"
  }
 },
 "nbformat": 4,
 "nbformat_minor": 5
}