{
 "cells": [
  {
   "cell_type": "code",
   "execution_count": 131,
   "source": [
    "from PIL import Image \n",
    "from IPython.display import display \n",
    "import random\n",
    "import json"
   ],
   "outputs": [],
   "metadata": {}
  },
  {
   "cell_type": "code",
   "execution_count": 132,
   "source": [
    "# Variables\n",
    "\n",
    "TOTAL_IMAGES = 420 # total unique: 2160 / total unique where trait count is a trait: 12960\n",
    "\n",
    "all_images = []\n",
    "\n",
    "background = [\"blue\", \"gold\", \"green\", \"peach\", \"pink\"]\n",
    "color = [\"black\", \"blue\", \"deepblue\", \"green\", \"orange\", \"purple\", \"red\", \"white\", \"yellow\"]\n",
    "spots = [\"black\", \"ice\", \"white\"]\n",
    "floor = [\"grass\", \"mud\", \"sand\", \"snow\"]\n",
    "toxicity = [\"safe\", \"toxic\"]\n",
    "species = [\"toadstool\", \"magic\"]\n",
    "\n",
    "# add magic mushroom, number of mushrooms, MAYBE add weather/landscape instead of floor?\n",
    "\n",
    "background_weights = [10, 5, 15, 40, 30]\n",
    "color_weights = [1, 2, 5, 15, 25, 11, 32, 1, 8]\n",
    "spots_weights = [20, 5, 75]\n",
    "floor_weights = [50, 30, 15, 5]\n",
    "toxicity_weights = [85, 15]\n",
    "species_weights = [95, 5]\n"
   ],
   "outputs": [],
   "metadata": {}
  },
  {
   "cell_type": "code",
   "execution_count": 133,
   "source": [
    "def create_new_image():\n",
    "    new_image = {}\n",
    "\n",
    "    # For each trait category, select a random trait based on the weightings\n",
    "    new_image[\"Background\"] = random.choices(background, background_weights)[0]\n",
    "    new_image[\"Color\"] = random.choices(color, color_weights)[0]\n",
    "    new_image[\"Spots\"] = random.choices(spots, spots_weights)[0]\n",
    "    new_image[\"Floor\"] = random.choices(floor, floor_weights)[0]\n",
    "    new_image[\"Toxicity\"] = random.choices(toxicity, toxicity_weights)[0]\n",
    "    new_image[\"Species\"] = random.choices(species, species_weights)[0]\n",
    "\n",
    "    if new_image in all_images:\n",
    "        return create_new_image()\n",
    "    else:\n",
    "        return new_image\n",
    "\n",
    "\n",
    "for i in range(TOTAL_IMAGES):\n",
    "    new_image = create_new_image()\n",
    "\n",
    "    all_images.append(new_image)\n"
   ],
   "outputs": [],
   "metadata": {}
  },
  {
   "cell_type": "code",
   "execution_count": 134,
   "source": [
    "# Returns true if all images are unique\n",
    "def all_images_unique(all_images):\n",
    "    seen = list()\n",
    "    return not any(i in seen or seen.append(i) for i in all_images)\n",
    "\n",
    "print(\"Are all images unique?\", all_images_unique(all_images))"
   ],
   "outputs": [
    {
     "output_type": "stream",
     "name": "stdout",
     "text": [
      "Are all images unique? True\n"
     ]
    }
   ],
   "metadata": {}
  },
  {
   "cell_type": "code",
   "execution_count": 135,
   "source": [
    "# Add token Id to each image\n",
    "i = 0\n",
    "for item in all_images:\n",
    "    item[\"tokenId\"] = i\n",
    "    i = i + 1"
   ],
   "outputs": [],
   "metadata": {}
  },
  {
   "cell_type": "code",
   "execution_count": 136,
   "source": [
    "# print(all_images)"
   ],
   "outputs": [],
   "metadata": {}
  },
  {
   "cell_type": "code",
   "execution_count": 137,
   "source": [
    "# Get Trait Counts\n",
    "\n",
    "background_count = {}\n",
    "for item in background:\n",
    "    background_count[item] = 0\n",
    "\n",
    "color_count = {}\n",
    "for item in color:\n",
    "    color_count[item] = 0\n",
    "\n",
    "spots_count = {}\n",
    "for item in spots:\n",
    "    spots_count[item] = 0\n",
    "\n",
    "floor_count = {}\n",
    "for item in floor:\n",
    "    floor_count[item] = 0\n",
    "\n",
    "toxicity_count = {}\n",
    "for item in toxicity:\n",
    "    toxicity_count[item] = 0\n",
    "\n",
    "species_count = {}\n",
    "for item in species:\n",
    "    species_count[item] = 0\n",
    "\n",
    "for image in all_images:\n",
    "    background_count[image[\"Background\"]] += 1\n",
    "    color_count[image[\"Color\"]] += 1\n",
    "    spots_count[image[\"Spots\"]] += 1\n",
    "    floor_count[image[\"Floor\"]] += 1\n",
    "    toxicity_count[image[\"Toxicity\"]] += 1\n",
    "    species_count[image[\"Species\"]] += 1\n",
    "\n",
    "print(background_count)\n",
    "print(color_count)\n",
    "print(spots_count)\n",
    "print(floor_count)\n",
    "print(toxicity_count)\n",
    "print(species_count)\n"
   ],
   "outputs": [
    {
     "output_type": "stream",
     "name": "stdout",
     "text": [
      "{'blue': 66, 'gold': 48, 'green': 79, 'peach': 124, 'pink': 103}\n",
      "{'black': 11, 'blue': 18, 'deepblue': 33, 'green': 66, 'orange': 80, 'purple': 53, 'red': 94, 'white': 18, 'yellow': 47}\n",
      "{'black': 132, 'ice': 44, 'white': 244}\n",
      "{'grass': 162, 'mud': 130, 'sand': 91, 'snow': 37}\n",
      "{'safe': 296, 'toxic': 124}\n",
      "{'toadstool': 354, 'magic': 66}\n"
     ]
    }
   ],
   "metadata": {}
  },
  {
   "cell_type": "code",
   "execution_count": 138,
   "source": [
    "# Generate Metadata for all Traits\n",
    "METADATA_FILE_NAME = './metadata/all-traits.json'\n",
    "with open(METADATA_FILE_NAME, 'w') as outfile:\n",
    "    json.dump(all_images, outfile, indent=4)\n",
    "\n",
    "print(\"Created all-traits JSON file\")\n"
   ],
   "outputs": [
    {
     "output_type": "stream",
     "name": "stdout",
     "text": [
      "Created all-traits JSON file\n"
     ]
    }
   ],
   "metadata": {}
  },
  {
   "cell_type": "code",
   "execution_count": 139,
   "source": [
    "# Generate Images\n",
    "for item in all_images:\n",
    "\n",
    "    # print(\"sourcing images for\", item)\n",
    "\n",
    "    # source all images\n",
    "    # BASE IMAGES\n",
    "    bgImage = Image.open(\n",
    "        f'./trait-layers/backgrounds/{item[\"Background\"]}.png').convert('RGBA')\n",
    "    toadstoolColor = Image.open(\n",
    "        f'./trait-layers/colors/{item[\"Color\"]}-toadstool.png').convert('RGBA')\n",
    "    toadstoolOutline = Image.open(\n",
    "        f'./trait-layers/general/outline-toadstool.png').convert('RGBA')\n",
    "    floorImage = Image.open(\n",
    "        f'./trait-layers/floors/{item[\"Floor\"]}.png').convert('RGBA')\n",
    "\n",
    "    # CONDITIONALLY IMPORT IMAGES    \n",
    "    if item[\"Species\"] == \"magic\":\n",
    "        magicColor = Image.open(\n",
    "            f'./trait-layers/colors/{item[\"Color\"]}-magic.png').convert('RGBA')\n",
    "        magicOutline = Image.open(\n",
    "            f'./trait-layers/general/outline-magic.png').convert('RGBA')\n",
    "        shadingImage = Image.open(\n",
    "            f'./trait-layers/general/shading-magic.png').convert('RGBA')\n",
    "    else:    \n",
    "        shadingImage = Image.open(\n",
    "            f'./trait-layers/general/shading-toadstool.png').convert('RGBA')\n",
    "        toadstoolSpots = Image.open(\n",
    "            f'./trait-layers/spots/{item[\"Spots\"]}.png').convert('RGBA')\n",
    "\n",
    "    # properties to change only when item is of toxic variety\n",
    "    if item[\"Toxicity\"] == \"toxic\":\n",
    "        toxicImage = Image.open(\n",
    "            f'./trait-layers/general/toxic.png').convert('RGBA')\n",
    "        # change the alpha channels of the images for giving the toxic-look\n",
    "        toxicImage.putalpha(50)\n",
    "        shadingImage.putalpha(144)\n",
    "\n",
    "    # layer the images together\n",
    "    tsColWithBg = Image.alpha_composite(bgImage, toadstoolColor)\n",
    "    toadstoolBaseImage = Image.alpha_composite(tsColWithBg, toadstoolOutline)\n",
    "\n",
    "    # create the magic base (outline & color) if required\n",
    "    if item[\"Species\"] == \"magic\":\n",
    "        magicBaseImage = Image.alpha_composite(magicColor, magicOutline)\n",
    "        preshadedImage = Image.alpha_composite(toadstoolBaseImage, magicBaseImage)\n",
    "    else:\n",
    "        preshadedImage = Image.alpha_composite(toadstoolBaseImage, toadstoolSpots)\n",
    "\n",
    "    # add the shading\n",
    "    shadedImage = Image.alpha_composite(preshadedImage, shadingImage)\n",
    "\n",
    "    # add the floor\n",
    "    finalImage = Image.alpha_composite(shadedImage, floorImage)\n",
    "\n",
    "    # add toxic odour lines (if toxic)\n",
    "    if item[\"Toxicity\"] == \"toxic\":\n",
    "        finalImage = Image.alpha_composite(finalImage, toxicImage)\n",
    "\n",
    "    # Convert to RGB\n",
    "    rgb_im = finalImage.convert('RGB')\n",
    "    file_name = str(item[\"tokenId\"]) + \".png\"\n",
    "    rgb_im.save(\"./images/\" + file_name)\n"
   ],
   "outputs": [],
   "metadata": {}
  },
  {
   "cell_type": "code",
   "execution_count": 140,
   "source": [
    "#### Generate Metadata for each Image    \n",
    "\n",
    "f = open('./metadata/all-traits.json',) \n",
    "data = json.load(f)\n",
    "\n",
    "\n",
    "IMAGES_BASE_URI = \"ADD_IMAGES_BASE_URI_HERE\"\n",
    "PROJECT_NAME = \"ADD_PROJECT_NAME_HERE\"\n",
    "\n",
    "def getAttribute(key, value):\n",
    "    return {\n",
    "        \"trait_type\": key,\n",
    "        \"value\": value\n",
    "    }\n",
    "for i in data:\n",
    "    token_id = i['tokenId']\n",
    "    token = {\n",
    "        \"image\": IMAGES_BASE_URI + str(token_id) + '.png',\n",
    "        \"tokenId\": token_id,\n",
    "        \"name\": PROJECT_NAME + ' ' + str(token_id),\n",
    "        \"attributes\": []\n",
    "    }\n",
    "    token[\"attributes\"].append(getAttribute(\"Background\", i[\"Background\"].title()))\n",
    "    token[\"attributes\"].append(getAttribute(\"Color\", i[\"Color\"].title()))\n",
    "    token[\"attributes\"].append(getAttribute(\"Spots\", i[\"Spots\"].title()))\n",
    "    token[\"attributes\"].append(getAttribute(\"Floor\", i[\"Floor\"].title()))\n",
    "    token[\"attributes\"].append(getAttribute(\"Toxicity\", i[\"Toxicity\"].title()))\n",
    "    token[\"attributes\"].append(getAttribute(\"Species\", i[\"Species\"].title()))\n",
    "\n",
    "    with open('./metadata/' + str(token_id), 'w') as outfile:\n",
    "        json.dump(token, outfile, indent=4)\n",
    "f.close()"
   ],
   "outputs": [],
   "metadata": {}
  }
 ],
 "metadata": {
  "interpreter": {
   "hash": "31f2aee4e71d21fbe5cf8b01ff0e069b9275f58929596ceb00d14d90e3e16cd6"
  },
  "kernelspec": {
   "name": "python3",
   "display_name": "Python 3.6.9 64-bit"
  },
  "language_info": {
   "codemirror_mode": {
    "name": "ipython",
    "version": 3
   },
   "file_extension": ".py",
   "mimetype": "text/x-python",
   "name": "python",
   "nbconvert_exporter": "python",
   "pygments_lexer": "ipython3",
   "version": "3.6.9"
  }
 },
 "nbformat": 4,
 "nbformat_minor": 5
}